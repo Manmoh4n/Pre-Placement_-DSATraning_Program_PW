{
 "cells": [
  {
   "cell_type": "markdown",
   "id": "683c6789-6e09-40f5-8005-d71db6a6432d",
   "metadata": {},
   "source": [
    "# Convert 1D Array Into 2D Array\n",
    "\n",
    "# You are given a **0-indexed** 1-dimensional (1D) integer array original, and two integers, m and n. You are tasked with creating a 2-dimensional (2D) array with  m rows and n columns using **all** the elements from original.\n",
    "\n",
    "# The elements from indices 0 to n - 1 (**inclusive**) of original should form the first row of the constructed 2D array, the elements from indices n to 2 * n - 1 (**inclusive**) should form the second row of the constructed 2D array, and so on.\n",
    "\n",
    "# Return *an* m x n *2D array constructed according to the above procedure, or an empty 2D array if it is impossible*.\n",
    "\n",
    "# Example 1:\n",
    "# Input: original = [1,2,3,4], m = 2, n = 2\n",
    "\n",
    "# Output: [[1,2],[3,4]]\n",
    "\n",
    "# Explanation:The constructed 2D array should contain 2 rows and 2 columns.\n",
    "\n",
    "# The first group of n=2 elements in original, [1,2], becomes the first row in the constructed 2D array.\n",
    "\n",
    "# The second group of n=2 elements in original, [3,4], becomes the second row in the constructed 2D array."
   ]
  },
  {
   "cell_type": "code",
   "execution_count": 1,
   "id": "7f44d981-abe9-4b4d-a711-79c26cbe8bed",
   "metadata": {},
   "outputs": [
    {
     "name": "stdout",
     "output_type": "stream",
     "text": [
      "[[1, 2], [3, 4]]\n"
     ]
    }
   ],
   "source": [
    "def convert_to_2d_array(original, m, n):\n",
    "    if m * n != len(original):\n",
    "        return []  # Return an empty 2D array if it is impossible to create the desired array\n",
    "    \n",
    "    result = []\n",
    "    for i in range(m):\n",
    "        row = original[i * n : (i + 1) * n]\n",
    "        result.append(row)\n",
    "    \n",
    "    return result\n",
    "original = [1, 2, 3, 4]\n",
    "m = 2\n",
    "n = 2\n",
    "print(convert_to_2d_array(original, m, n))\n"
   ]
  },
  {
   "cell_type": "markdown",
   "id": "59c04aed-781a-4f66-9d74-980e0854eaef",
   "metadata": {},
   "source": [
    "# You have n coins and you want to build a staircase with these coins. The staircase consists of k rows where the ith row has exactly i coins. The last row of the staircase **may be** incomplete.\n",
    "\n",
    "# Given the integer n, return *the number of **complete rows** of the staircase you will build.\n",
    "# Input: n = 5\n",
    "\n",
    "# Output: 2\n",
    "\n",
    "# Explanation: Because the 3rd row is incomplete, we return 2."
   ]
  },
  {
   "cell_type": "code",
   "execution_count": 2,
   "id": "a5ec750e-3ba6-4213-8241-07d2dd0c8b67",
   "metadata": {},
   "outputs": [
    {
     "name": "stdout",
     "output_type": "stream",
     "text": [
      "2\n"
     ]
    }
   ],
   "source": [
    "def arrange_coins(n):\n",
    "    row = 1\n",
    "    while n >= row:\n",
    "        n -= row\n",
    "        row += 1\n",
    "    \n",
    "    return row - 1\n",
    "n = 5\n",
    "print(arrange_coins(n))\n"
   ]
  },
  {
   "cell_type": "markdown",
   "id": "8fff89f7-94b1-4175-8e39-323046f4e704",
   "metadata": {},
   "source": [
    "# Given an integer array nums sorted in **non-decreasing** order, return *an array of **the squares of each number** sorted in non-decreasing order*.\n",
    "\n",
    "# Example 1:**\n",
    "\n",
    "# Input:** nums = [-4,-1,0,3,10]\n",
    "\n",
    "# Output:** [0,1,9,16,100]\n",
    "\n",
    "# Explanation:** After squaring, the array becomes [16,1,0,9,100].\n",
    "\n",
    "# After sorting, it becomes [0,1,9,16,100]."
   ]
  },
  {
   "cell_type": "code",
   "execution_count": 3,
   "id": "ce835a16-c5ee-4a8a-be8c-2cb8f57a9dbe",
   "metadata": {},
   "outputs": [
    {
     "name": "stdout",
     "output_type": "stream",
     "text": [
      "[0, 1, 9, 16, 100]\n"
     ]
    }
   ],
   "source": [
    "def sorted_squares(nums):\n",
    "    squared_nums = [num**2 for num in nums]\n",
    "    return sorted(squared_nums)\n",
    "nums = [-4, -1, 0, 3, 10]\n",
    "print(sorted_squares(nums))\n"
   ]
  },
  {
   "cell_type": "markdown",
   "id": "dddbfc9d-c026-4f98-bd3a-9e231b857a5d",
   "metadata": {},
   "source": [
    "# Given two **0-indexed** integer arrays nums1 and nums2, return *a list* answer *of size* 2 *where:*\n",
    "\n",
    "# answer[0] *is a list of all **distinct** integers in* nums1 *which are **not** present in* nums2*.*\n",
    "# answer[1] *is a list of all **distinct** integers in* nums2 *which are **not** present in* nums1.\n",
    "\n",
    "# Note** that the integers in the lists may be returned in **any** order.\n",
    "\n",
    "# Example 1:**\n",
    "\n",
    "# Input:** nums1 = [1,2,3], nums2 = [2,4,6]\n",
    "\n",
    "# Output:** [[1,3],[4,6]]\n",
    "\n",
    "# Explanation:**\n",
    "\n",
    "# For nums1, nums1[1] = 2 is present at index 0 of nums2, whereas nums1[0] = 1 and nums1[2] = 3 are not present in nums2. Therefore, answer[0] = [1,3].\n",
    "\n",
    "# For nums2, nums2[0] = 2 is present at index 1 of nums1, whereas nums2[1] = 4 and nums2[2] = 6 are not present in nums2. Therefore, answer[1] = [4,6]."
   ]
  },
  {
   "cell_type": "code",
   "execution_count": 4,
   "id": "8d4f195e-8dbd-4f24-92ad-7ddc5295900f",
   "metadata": {},
   "outputs": [
    {
     "name": "stdout",
     "output_type": "stream",
     "text": [
      "[[1, 3], [4, 6]]\n"
     ]
    }
   ],
   "source": [
    "def find_disjoint_nums(nums1, nums2):\n",
    "    set1 = set(nums1)\n",
    "    set2 = set(nums2)\n",
    "    \n",
    "    distinct_nums1 = [num for num in set1 if num not in set2]\n",
    "    distinct_nums2 = [num for num in set2 if num not in set1]\n",
    "    \n",
    "    return [distinct_nums1, distinct_nums2]\n",
    "nums1 = [1, 2, 3]\n",
    "nums2 = [2, 4, 6]\n",
    "print(find_disjoint_nums(nums1, nums2))\n"
   ]
  },
  {
   "cell_type": "markdown",
   "id": "be050bb9-084c-4ad8-a9e5-e91ee5938dcc",
   "metadata": {},
   "source": [
    "# Given two integer arrays arr1 and arr2, and the integer d, *return the distance value between the two arrays*.\n",
    "\n",
    "# The distance value is defined as the number of elements arr1[i] such that there is not any element arr2[j] where |arr1[i]-arr2[j]| <= d.\n",
    "\n",
    "# Example 1:**\n",
    "\n",
    "# Input:** arr1 = [4,5,8], arr2 = [10,9,1,8], d = 2\n",
    "\n",
    "# Output:** 2\n",
    "\n",
    "# Explanation:**\n",
    "\n",
    "# For arr1[0]=4 we have:\n",
    "\n",
    "# |4-10|=6 > d=2\n",
    "\n",
    "# |4-9|=5 > d=2\n",
    "\n",
    "# |4-1|=3 > d=2\n",
    "\n",
    "# |4-8|=4 > d=2\n",
    "\n",
    "# For arr1[1]=5 we have:\n",
    "\n",
    "# |5-10|=5 > d=2\n",
    "\n",
    "# |5-9|=4 > d=2\n",
    "\n",
    "# |5-1|=4 > d=2\n",
    "\n",
    "# |5-8|=3 > d=2\n",
    "\n",
    "# For arr1[2]=8 we have:\n",
    "\n",
    "# |8-10|=2 <= d=2**\n",
    "\n",
    "# |8-9|=1 <= d=2**\n",
    "\n",
    "# |8-1|=7 > d=2\n",
    "\n",
    "# |8-8|=0 <= d=2**"
   ]
  },
  {
   "cell_type": "code",
   "execution_count": 5,
   "id": "2749ba82-b19f-46fa-ab9d-5a069a38d520",
   "metadata": {},
   "outputs": [
    {
     "name": "stdout",
     "output_type": "stream",
     "text": [
      "2\n"
     ]
    }
   ],
   "source": [
    "def find_distance_value(arr1, arr2, d):\n",
    "    distance_value = 0\n",
    "    \n",
    "    for num1 in arr1:\n",
    "        for num2 in arr2:\n",
    "            if abs(num1 - num2) <= d:\n",
    "                break\n",
    "        else:\n",
    "            distance_value += 1\n",
    "    \n",
    "    return distance_value\n",
    "arr1 = [4, 5, 8]\n",
    "arr2 = [10, 9, 1, 8]\n",
    "d = 2\n",
    "print(find_distance_value(arr1, arr2, d))\n"
   ]
  },
  {
   "cell_type": "markdown",
   "id": "bd60ea33-6b65-49bc-a70c-d2ad2b80ebe4",
   "metadata": {},
   "source": [
    "# Given an integer array nums of length n where all the integers of nums are in the range [1, n] and each integer appears **once** or **twice**, return *an array of all the integers that appears **twice***.\n",
    "\n",
    "# You must write an algorithm that runs in O(n) time and uses only constant extra space.\n",
    "\n",
    "# Example 1:**\n",
    "\n",
    "# Input:** nums = [4,3,2,7,8,2,3,1]\n",
    "\n",
    "# Output:**\n",
    "\n",
    "# [2,3]"
   ]
  },
  {
   "cell_type": "code",
   "execution_count": 6,
   "id": "e9c8ed41-13b8-4c69-a0c0-97d512056283",
   "metadata": {},
   "outputs": [
    {
     "name": "stdout",
     "output_type": "stream",
     "text": [
      "[2, 3]\n"
     ]
    }
   ],
   "source": [
    "def find_duplicates(nums):\n",
    "    result = []\n",
    "    \n",
    "    for num in nums:\n",
    "        index = abs(num) - 1\n",
    "        if nums[index] < 0:\n",
    "            result.append(abs(num))\n",
    "        else:\n",
    "            nums[index] *= -1\n",
    "    \n",
    "    return result\n",
    "nums = [4, 3, 2, 7, 8, 2, 3, 1]\n",
    "print(find_duplicates(nums))\n"
   ]
  },
  {
   "cell_type": "markdown",
   "id": "772c548e-e1cc-43e5-a7e2-8de77f8461d9",
   "metadata": {},
   "source": [
    "# Suppose an array of length n sorted in ascending order is **rotated** between 1 and n times. For example, the array nums = [0,1,2,4,5,6,7] might become:\n",
    "\n",
    "# [4,5,6,7,0,1,2] if it was rotated 4 times.\n",
    "# [0,1,2,4,5,6,7] if it was rotated 7 times.\n",
    "\n",
    "# Notice that **rotating** an array [a[0], a[1], a[2], ..., a[n-1]] 1 time results in the array [a[n-1], a[0], a[1], a[2], ..., a[n-2]].\n",
    "\n",
    "# Given the sorted rotated array nums of **unique** elements, return *the minimum element of this array*.\n",
    "\n",
    "# You must write an algorithm that runs in O(log n) time.\n",
    "\n",
    "# Example 1:**\n",
    "\n",
    "# Input:** nums = [3,4,5,1,2]\n",
    "\n",
    "# Output:** 1\n",
    "\n",
    "# Explanation:**\n",
    "\n",
    "# The original array was [1,2,3,4,5] rotated 3 times."
   ]
  },
  {
   "cell_type": "code",
   "execution_count": 7,
   "id": "3b9f2256-7ed6-45d3-af9e-95bf95afeba4",
   "metadata": {},
   "outputs": [
    {
     "name": "stdout",
     "output_type": "stream",
     "text": [
      "1\n"
     ]
    }
   ],
   "source": [
    "def find_minimum(nums):\n",
    "    left, right = 0, len(nums) - 1\n",
    "    \n",
    "    while left < right:\n",
    "        mid = left + (right - left) // 2\n",
    "        \n",
    "        if nums[mid] > nums[right]:\n",
    "            left = mid + 1\n",
    "        else:\n",
    "            right = mid\n",
    "    \n",
    "    return nums[left]\n",
    "nums = [3, 4, 5, 1, 2]\n",
    "print(find_minimum(nums))\n"
   ]
  },
  {
   "cell_type": "markdown",
   "id": "137d5a1f-91a3-42ae-b643-85d6ebbc48cc",
   "metadata": {},
   "source": [
    "# An integer array original is transformed into a **doubled** array changed by appending **twice the value** of every element in original, and then randomly **shuffling** the resulting array.\n",
    "\n",
    "# Given an array changed, return original *if* changed *is a **doubled** array. If* changed *is not a **doubled** array, return an empty array. The elements in* original *may be returned in **any** order*.\n",
    "\n",
    "# Example 1:**\n",
    "\n",
    "# Input:** changed = [1,3,4,2,6,8]\n",
    "\n",
    "# Output:** [1,3,4]\n",
    "\n",
    "# Explanation:** One possible original array could be [1,3,4]:\n",
    "\n",
    "# Twice the value of 1 is 1 * 2 = 2.\n",
    "# Twice the value of 3 is 3 * 2 = 6.\n",
    "# Twice the value of 4 is 4 * 2 = 8.\n",
    "\n",
    "# Other original arrays could be [4,3,1] or [3,1,4]."
   ]
  },
  {
   "cell_type": "code",
   "execution_count": 8,
   "id": "6517ff3c-86b0-4092-b0a4-4cac660f5fbb",
   "metadata": {},
   "outputs": [
    {
     "name": "stdout",
     "output_type": "stream",
     "text": [
      "[]\n"
     ]
    }
   ],
   "source": [
    "from collections import Counter\n",
    "\n",
    "def find_original(changed):\n",
    "    count = Counter(changed)\n",
    "    original = []\n",
    "    \n",
    "    for num in changed:\n",
    "        if count[num] > 0 and count[num // 2] > 0:\n",
    "            original.append(num // 2)\n",
    "            count[num] -= 1\n",
    "            count[num // 2] -= 1\n",
    "    \n",
    "    if sum(count.values()) == 0:\n",
    "        return original\n",
    "    else:\n",
    "        return []\n",
    "changed = [1, 3, 4, 2, 6, 8]\n",
    "print(find_original(changed))\n"
   ]
  }
 ],
 "metadata": {
  "kernelspec": {
   "display_name": "Python 3 (ipykernel)",
   "language": "python",
   "name": "python3"
  },
  "language_info": {
   "codemirror_mode": {
    "name": "ipython",
    "version": 3
   },
   "file_extension": ".py",
   "mimetype": "text/x-python",
   "name": "python",
   "nbconvert_exporter": "python",
   "pygments_lexer": "ipython3",
   "version": "3.10.8"
  }
 },
 "nbformat": 4,
 "nbformat_minor": 5
}
